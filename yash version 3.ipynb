{
 "cells": [
  {
   "cell_type": "markdown",
   "id": "a91d16f2",
   "metadata": {},
   "source": [
    "#Imports"
   ]
  },
  {
   "cell_type": "code",
   "execution_count": 48,
   "id": "7fff49fb",
   "metadata": {},
   "outputs": [],
   "source": [
    "import os\n",
    "import base64\n",
    "import joblib\n",
    "import pandas as pd\n",
    "import numpy as np\n",
    "import category_encoders\n",
    "import json\n",
    "import joblib\n",
    "import pickle\n",
    "import math\n",
    "import requests\n",
    "from copy import deepcopy\n",
    "import seaborn as sns\n",
    "from uuid import uuid4\n",
    "\n",
    "from sklearn.model_selection import train_test_split\n",
    "from sklearn.pipeline import make_pipeline, Pipeline\n",
    "from sklearn.model_selection import cross_val_score\n",
    "from category_encoders import OneHotEncoder\n",
    "from sklearn.impute import SimpleImputer\n",
    "from sklearn.preprocessing import StandardScaler, OneHotEncoder\n",
    "from sklearn.compose import ColumnTransformer\n",
    "from sklearn.model_selection import cross_val_score\n",
    "from sklearn.ensemble import RandomForestClassifier, GradientBoostingClassifier, GradientBoostingRegressor\n",
    "from sklearn.tree import DecisionTreeClassifier, DecisionTreeRegressor\n",
    "from sklearn.linear_model import LogisticRegression\n",
    "from sklearn.metrics import precision_score, recall_score, f1_score, accuracy_score, roc_auc_score\n",
    "\n",
    "from sklearn.base import BaseEstimator, TransformerMixin\n",
    "\n",
    "from pandas_profiling import ProfileReport\n",
    "\n",
    "import matplotlib.pyplot as plt\n",
    "import matplotlib.image as mpimg\n",
    "%matplotlib inline"
   ]
  },
  {
   "cell_type": "code",
   "execution_count": 49,
   "id": "d4102f25",
   "metadata": {},
   "outputs": [],
   "source": [
    "def load_train_data():\n",
    "    df = pd.read_csv(os.path.join(\"data\", \"train.csv\"))\n",
    "    df = df.set_index('observation_id')\n",
    "    df['Date'] =  pd.to_datetime(df['Date'])\n",
    "    df['isnew'] = 'False'\n",
    "    return df\n",
    "\n",
    "data_train = load_train_data()"
   ]
  },
  {
   "cell_type": "code",
   "execution_count": 50,
   "id": "68bbd5d5",
   "metadata": {},
   "outputs": [],
   "source": [
    "def load_test_data():\n",
    "    df = pd.read_csv(os.path.join(\"data\", \"test_1.csv\"))\n",
    "    df = df.set_index('observation_id')\n",
    "    df['Date'] =  pd.to_datetime(df['Date'])\n",
    "    df['isnew'] = 'True'\n",
    "    return df\n",
    "\n",
    "data_test1 = load_test_data()"
   ]
  },
  {
   "cell_type": "code",
   "execution_count": 51,
   "id": "24826b6a",
   "metadata": {},
   "outputs": [
    {
     "data": {
      "text/plain": [
       "['Type',\n",
       " 'Date',\n",
       " 'Part of a policing operation',\n",
       " 'Latitude',\n",
       " 'Longitude',\n",
       " 'Gender',\n",
       " 'Age range',\n",
       " 'Self-defined ethnicity',\n",
       " 'Officer-defined ethnicity',\n",
       " 'Legislation',\n",
       " 'Object of search',\n",
       " 'Outcome',\n",
       " 'Outcome linked to object of search',\n",
       " 'Removal of more than just outer clothing',\n",
       " 'station',\n",
       " 'Search Outcome',\n",
       " 'isnew']"
      ]
     },
     "execution_count": 51,
     "metadata": {},
     "output_type": "execute_result"
    }
   ],
   "source": [
    "data_train.columns.tolist()"
   ]
  },
  {
   "cell_type": "code",
   "execution_count": 52,
   "id": "f9c3282b",
   "metadata": {},
   "outputs": [
    {
     "data": {
      "text/plain": [
       "['Type',\n",
       " 'Date',\n",
       " 'Part of a policing operation',\n",
       " 'Latitude',\n",
       " 'Longitude',\n",
       " 'Gender',\n",
       " 'Age range',\n",
       " 'Self-defined ethnicity',\n",
       " 'Officer-defined ethnicity',\n",
       " 'Legislation',\n",
       " 'Object of search',\n",
       " 'Removal of more than just outer clothing',\n",
       " 'station',\n",
       " 'Search Outcome',\n",
       " 'isnew']"
      ]
     },
     "execution_count": 52,
     "metadata": {},
     "output_type": "execute_result"
    }
   ],
   "source": [
    "data_test1.columns.tolist()"
   ]
  },
  {
   "cell_type": "code",
   "execution_count": 53,
   "id": "cfde2d80",
   "metadata": {},
   "outputs": [],
   "source": [
    "frames = [data_train, data_test1]\n",
    "df = pd.concat(frames)"
   ]
  },
  {
   "cell_type": "code",
   "execution_count": 54,
   "id": "240c4aa2",
   "metadata": {},
   "outputs": [],
   "source": [
    "df_train, df_test = train_test_split(df, test_size=0.3, random_state=42, stratify=df.isnew)"
   ]
  },
  {
   "cell_type": "code",
   "execution_count": 55,
   "id": "9f57f727",
   "metadata": {},
   "outputs": [],
   "source": [
    "all_features_1 = ['Type',\n",
    "                'Date',\n",
    "                'Part of a policing operation',\n",
    "                'Gender',\n",
    "                'Age range',\n",
    "                'Self-defined ethnicity',\n",
    "                'Officer-defined ethnicity',\n",
    "                'Legislation',\n",
    "                'Object of search',\n",
    "                #'Outcome linked to object of search',\n",
    "                'Removal of more than just outer clothing',\n",
    "                'station']\n",
    "\n",
    "cat_features_1 = ['Type',\n",
    "                'Part of a policing operation',\n",
    "                'Gender',\n",
    "                'Age range',\n",
    "                'Self-defined ethnicity',\n",
    "                'Officer-defined ethnicity',\n",
    "                'Legislation',\n",
    "                #'Object of search',\n",
    "                #'Outcome linked to object of search',\n",
    "                'Removal of more than just outer clothing',\n",
    "                'station']\n",
    "\n",
    "all_features_2 = ['Type',\n",
    "                'Date',\n",
    "                'Part of a policing operation',\n",
    "                'Officer-defined ethnicity',\n",
    "                'Gender',\n",
    "                'Age range',\n",
    "                'Self-defined ethnicity',\n",
    "                'station']\n",
    "\n",
    "cat_features_2 = ['Type',\n",
    "                'Part of a policing operation',\n",
    "                'Officer-defined ethnicity',\n",
    "                'Gender',\n",
    "                'Age range',\n",
    "                'Self-defined ethnicity',\n",
    "                'station']\n",
    "\n",
    "attempts = [{\"attempt\": 1, \"all_features\":all_features_1, \"cat_features\":cat_features_1},\n",
    "            {\"attempt\": 2, \"all_features\":all_features_2, \"cat_features\":cat_features_2}]\n",
    "\n",
    "target = 'Search Outcome'"
   ]
  },
  {
   "cell_type": "code",
   "execution_count": 56,
   "id": "985a21f0",
   "metadata": {},
   "outputs": [],
   "source": [
    "def verify_no_discrimination(X_test, y_true, y_pred, sensitive_column, max_diff=0.15, min_samples=50):    \n",
    "    \n",
    "    sensitive_classes = X_test[sensitive_column].unique()\n",
    "    \n",
    "    is_satisfied = True\n",
    "    f1_scores = {}\n",
    "    \n",
    "    for sensitive_class in sensitive_classes:\n",
    "        mask = (X_test[sensitive_column] == sensitive_class)\n",
    "        if mask.sum() > min_samples:\n",
    "            f1_scores[sensitive_class] = f1_score(y_true[mask], y_pred[mask], pos_label=1)\n",
    "\n",
    "    diff = np.max(list(f1_scores.values())) - np.min(list(f1_scores.values()))\n",
    "    \n",
    "    if diff > max_diff:\n",
    "        is_satisfied = False\n",
    "    \n",
    "    return diff, is_satisfied"
   ]
  },
  {
   "cell_type": "code",
   "execution_count": 57,
   "id": "38bac41f",
   "metadata": {},
   "outputs": [],
   "source": [
    "def feature_search(attempts, df_train, df_test):\n",
    "\n",
    "    overall_results = []\n",
    "    \n",
    "    for attempt in attempts:\n",
    "        \n",
    "        attempt_result = {}\n",
    "        \n",
    "        af = attempt['all_features']\n",
    "        cf = attempt['cat_features']\n",
    "        \n",
    "        X_test = df_test[af]\n",
    "        X_test[cf] = X_test[cf].astype(str)\n",
    "        y_test = df_test[target]\n",
    "    \n",
    "        X_train = df_train[af]\n",
    "        X_train[cf] = X_train[cf].astype(str)\n",
    "        y_train = df_train[target]\n",
    "        \n",
    "        categorical_transformer = Pipeline(steps=[\n",
    "        ('imputer', SimpleImputer(strategy='constant', fill_value='missing')),\n",
    "        ('onehot', OneHotEncoder(handle_unknown='ignore'))])\n",
    "        \n",
    "        preprocessor = ColumnTransformer(\n",
    "        transformers=[('cat', categorical_transformer, cf )])\n",
    "    \n",
    "        pipeline = make_pipeline(preprocessor,\n",
    "                                RandomForestClassifier(max_depth=3, min_samples_leaf=.03, class_weight=\"balanced\", random_state=42, n_jobs=-1),\n",
    "                        )\n",
    "                \n",
    "        pipeline.fit(X_train, y_train)\n",
    "        \n",
    "        y_pred = pipeline.predict(X_test)\n",
    "        y_pred_train = pipeline.predict(X_train)\n",
    "        \n",
    "        f1_score_result = f1_score(np.array(y_test), y_pred)\n",
    "        \n",
    "        diff_gender, is_satisfied_gender = verify_no_discrimination(X_test, y_test, y_pred, sensitive_column='Gender',max_diff=0.15 )\n",
    "\n",
    "        diff_race, is_satisfied_race = verify_no_discrimination(X_test, y_test, y_pred, sensitive_column='Self-defined ethnicity',max_diff=0.15 )\n",
    "\n",
    "        diff_officer, is_satisfied_officer = verify_no_discrimination(X_test, y_test, y_pred, sensitive_column='Officer-defined ethnicity',max_diff=0.15 )\n",
    "        \n",
    "        attempt_result['attempt_nr'] = attempt['attempt']\n",
    "        attempt_result['f1_score'] = f1_score_result\n",
    "        attempt_result['gender_diff'] = diff_gender\n",
    "        attempt_result['race_diff'] = diff_race\n",
    "        attempt_result['officer_diff'] = diff_officer\n",
    "        max_diff = max(diff_gender, diff_race)\n",
    "        final_metric = f1_score_result - 0.1 * max_diff\n",
    "        attempt_result['hacking_score'] = final_metric\n",
    "        \n",
    "        overall_results.append(attempt_result)\n",
    "        \n",
    "    return overall_results"
   ]
  },
  {
   "cell_type": "code",
   "execution_count": 58,
   "id": "f75594c3",
   "metadata": {},
   "outputs": [],
   "source": [
    "class DroppingColumns(BaseEstimator, TransformerMixin):\n",
    "    def __init__(self, cols=[]):\n",
    "        self.cols = cols\n",
    "    def fit(self, X=None, y=None, **fit_params):\n",
    "        return self\n",
    "    def transform(self, data):\n",
    "        X = data.copy()\n",
    "        X = X.drop(self.cols,axis=1)\n",
    "        return X"
   ]
  },
  {
   "cell_type": "code",
   "execution_count": 59,
   "id": "a25a1979",
   "metadata": {},
   "outputs": [
    {
     "name": "stderr",
     "output_type": "stream",
     "text": [
      "/home/yash/.virtualenvs/bootcamp/lib/python3.7/site-packages/pandas/core/frame.py:3191: SettingWithCopyWarning: \n",
      "A value is trying to be set on a copy of a slice from a DataFrame.\n",
      "Try using .loc[row_indexer,col_indexer] = value instead\n",
      "\n",
      "See the caveats in the documentation: https://pandas.pydata.org/pandas-docs/stable/user_guide/indexing.html#returning-a-view-versus-a-copy\n",
      "  self[k1] = value[k2]\n",
      "/home/yash/.virtualenvs/bootcamp/lib/python3.7/site-packages/pandas/core/frame.py:3191: SettingWithCopyWarning: \n",
      "A value is trying to be set on a copy of a slice from a DataFrame.\n",
      "Try using .loc[row_indexer,col_indexer] = value instead\n",
      "\n",
      "See the caveats in the documentation: https://pandas.pydata.org/pandas-docs/stable/user_guide/indexing.html#returning-a-view-versus-a-copy\n",
      "  self[k1] = value[k2]\n"
     ]
    },
    {
     "data": {
      "text/plain": [
       "[{'attempt_nr': 1,\n",
       "  'f1_score': 0.38777292576419214,\n",
       "  'gender_diff': 0.03577782332445162,\n",
       "  'race_diff': 0.5,\n",
       "  'officer_diff': 0.1415343915343915,\n",
       "  'hacking_score': 0.33777292576419216},\n",
       " {'attempt_nr': 2,\n",
       "  'f1_score': 0.40589765828274066,\n",
       "  'gender_diff': 0.035156249999999944,\n",
       "  'race_diff': 0.4761904761904762,\n",
       "  'officer_diff': 0.08142239946826191,\n",
       "  'hacking_score': 0.35827861066369304}]"
      ]
     },
     "execution_count": 59,
     "metadata": {},
     "output_type": "execute_result"
    }
   ],
   "source": [
    "feature_search(attempts, df_train, df_test)"
   ]
  },
  {
   "cell_type": "code",
   "execution_count": 61,
   "id": "a935cff8",
   "metadata": {},
   "outputs": [],
   "source": [
    "categorical_transformer = Pipeline(steps=[\n",
    "    ('imputer', SimpleImputer(strategy='constant', fill_value='missing')),\n",
    "    ('onehot', OneHotEncoder(handle_unknown='ignore'))])\n",
    "\n",
    "preprocessor = ColumnTransformer(\n",
    "    transformers=[\n",
    "        #('num', numeric_transformer, numerical_features),\n",
    "        ('cat', categorical_transformer, cat_features)])"
   ]
  },
  {
   "cell_type": "code",
   "execution_count": 67,
   "id": "755b5dbf",
   "metadata": {},
   "outputs": [
    {
     "ename": "SyntaxError",
     "evalue": "invalid syntax (<ipython-input-67-fea73804cb2b>, line 34)",
     "output_type": "error",
     "traceback": [
      "\u001b[0;36m  File \u001b[0;32m\"<ipython-input-67-fea73804cb2b>\"\u001b[0;36m, line \u001b[0;32m34\u001b[0m\n\u001b[0;31m    X_test[cf] = X_test[[cf].astype(str)\u001b[0m\n\u001b[0m         ^\u001b[0m\n\u001b[0;31mSyntaxError\u001b[0m\u001b[0;31m:\u001b[0m invalid syntax\n"
     ]
    }
   ],
   "source": [
    "target = 'Search Outcome'\n",
    "\n",
    "af = ['Type',\n",
    "      'Date',\n",
    "      'Part of a policing operation',\n",
    "      'Latitude',\n",
    "      'Longitude',\n",
    "      'Gender',\n",
    "      'Age range',\n",
    "      'Self-defined ethnicity',\n",
    "      'Officer-defined ethnicity',\n",
    "      'Legislation',\n",
    "      'Object of search',\n",
    "      'Removal of more than just outer clothing',\n",
    "      'station']\n",
    "\n",
    "cols_to_drop = ['Latitude',\n",
    "                'Longitude']\n",
    "\n",
    "cf = ['Type',\n",
    "      'Date',\n",
    "      'Part of a policing operation',\n",
    "      'Gender',\n",
    "      'Age range',\n",
    "      'Officer-defined ethnicity',\n",
    "      'Legislation',\n",
    "      'Object of search',\n",
    "      'Removal of more than just outer clothing',\n",
    "      'station']\n",
    "\n",
    "\n",
    "pipeline = make_pipeline(\n",
    "X_test = df_test[af]\n",
    "X_test[cf] = X_test[[cf].astype(str)\n",
    "y_test = df_test[target]\n",
    "    \n",
    "X_train = df_train[af]\n",
    "X_train[cf] = X_train[cf].astype(str)\n",
    "y_train = df_train[target]\n",
    "        \n",
    "categorical_transformer = Pipeline(steps=[\n",
    "('imputer', SimpleImputer(strategy='constant', fill_value='missing')),\n",
    "('onehot', OneHotEncoder(handle_unknown='ignore'))])\n",
    "        \n",
    "preprocessor = ColumnTransformer(\n",
    "transformers=[('cat', categorical_transformer, cf )])\n",
    "    \n",
    "pipeline = make_pipeline(preprocessor,\n",
    "                        RandomForestClassifier(max_depth=3, min_samples_leaf=.03, class_weight=\"balanced\", random_state=42, n_jobs=-1),\n",
    "                )\n",
    "                \n",
    "pipeline.fit(X_train, y_train)\n",
    "        \n",
    "y_pred = pipeline.predict(X_test)\n",
    "y_pred_train = pipeline.predict(X_train)\n",
    "        \n",
    "f1_score(np.array(y_test), y_pred)"
   ]
  },
  {
   "cell_type": "code",
   "execution_count": null,
   "id": "aaaf75ee",
   "metadata": {},
   "outputs": [],
   "source": []
  }
 ],
 "metadata": {
  "kernelspec": {
   "display_name": "Python 3",
   "language": "python",
   "name": "python3"
  },
  "language_info": {
   "codemirror_mode": {
    "name": "ipython",
    "version": 3
   },
   "file_extension": ".py",
   "mimetype": "text/x-python",
   "name": "python",
   "nbconvert_exporter": "python",
   "pygments_lexer": "ipython3",
   "version": "3.7.12"
  }
 },
 "nbformat": 4,
 "nbformat_minor": 5
}
